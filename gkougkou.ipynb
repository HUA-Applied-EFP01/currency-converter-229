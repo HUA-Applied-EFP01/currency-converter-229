{
 "cells": [
  {
   "cell_type": "code",
   "execution_count": 29,
   "metadata": {},
   "outputs": [
    {
     "name": "stdout",
     "output_type": "stream",
     "text": [
      "Τι νόμισμα θέλετε να μετατρέψετε;\n",
      "1.EUR\n",
      "2.USD\n",
      "3.JY\n",
      "4.RR\n",
      "5.CD\n"
     ]
    },
    {
     "name": "stdout",
     "output_type": "stream",
     "text": [
      "Δώσατε λάθος επιλογή\n",
      "Δώσατε λάθος επιλογή\n"
     ]
    }
   ],
   "source": [
    "print ('Τι νόμισμα θέλετε να μετατρέψετε;')\n",
    "print ('1.EUR\\n2.USD\\n3.JY\\n4.RR\\n5.CD')\n",
    "EUR=1 #1\n",
    "USD=1.1 #2\n",
    "JY=157.24 #3\n",
    "RR=101.18 #4\n",
    "CD=1.46 #5\n",
    "\n",
    "\n",
    "amount=float(input('ΠΟΣΟ ΜΕΤΑΤΡΟΠΗΣ : '))\n",
    "nomisma=int(input('ΝΟΜΙΣΜΑ: '))\n",
    "\n",
    "\n",
    "while nomisma<1 or nomisma>5:\n",
    "    print('Δώσατε λάθος επιλογή')\n",
    "    nomisma=int(input('ΝΟΜΙΣΜΑ: '))\n",
    "else:\n",
    "    if nomisma==1:\n",
    "            posomet=amount\n",
    "    elif nomisma==2:\n",
    "            posomet=amount/USD\n",
    "    elif nomisma==3:\n",
    "            posomet=amount/JY\n",
    "    elif nomisma==4:\n",
    "            posomet=amount/RR\n",
    "    elif nomisma==5:\n",
    "            posomet=amount/CD\n",
    "\n",
    "\n"
   ]
  },
  {
   "cell_type": "code",
   "execution_count": 30,
   "metadata": {},
   "outputs": [
    {
     "name": "stdout",
     "output_type": "stream",
     "text": [
      "Δώσατε λάθος επιλογή\n",
      "Δώσατε λάθος επιλογή\n",
      "το τελικο ποσο ειναι:  1429.4545454545455\n"
     ]
    }
   ],
   "source": [
    "nomismamet=int(input(\"ΜΕΤΑΤΡΟΠΗ ΣΕ: \"))\n",
    "while nomismamet<1 or nomismamet>5:\n",
    "    print('Δώσατε λάθος επιλογή')\n",
    "    nomismamet=int(input(\"ΜΕΤΑΤΡΟΠΗ ΣΕ: \"))\n",
    "else:\n",
    "    if nomismamet==1:\n",
    "        teliko=posomet\n",
    "    elif nomismamet==2:\n",
    "        teliko=posomet*USD\n",
    "    elif nomismamet==3:\n",
    "        teliko=posomet*JY\n",
    "    elif nomismamet==4:\n",
    "        teliko=posomet*RR\n",
    "    elif nomismamet==5:\n",
    "        teliko=posomet*CD\n",
    "\n",
    "\n",
    "print('το τελικο ποσο ειναι: ', teliko)\n"
   ]
  },
  {
   "cell_type": "code",
   "execution_count": null,
   "metadata": {},
   "outputs": [],
   "source": []
  }
 ],
 "metadata": {
  "kernelspec": {
   "display_name": "Python 3",
   "language": "python",
   "name": "python3"
  },
  "language_info": {
   "codemirror_mode": {
    "name": "ipython",
    "version": 3
   },
   "file_extension": ".py",
   "mimetype": "text/x-python",
   "name": "python",
   "nbconvert_exporter": "python",
   "pygments_lexer": "ipython3",
   "version": "3.10.12"
  }
 },
 "nbformat": 4,
 "nbformat_minor": 2
}
